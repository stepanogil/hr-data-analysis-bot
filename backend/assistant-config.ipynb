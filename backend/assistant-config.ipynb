{
 "cells": [
  {
   "cell_type": "markdown",
   "metadata": {},
   "source": [
    "### Imports"
   ]
  },
  {
   "cell_type": "code",
   "execution_count": 17,
   "metadata": {},
   "outputs": [],
   "source": [
    "import os\n",
    "import json\n",
    "from dotenv import load_dotenv\n",
    "from utils.assistants_api_object_pretty_printer import pretty_print, pretty_print_thread\n",
    "\n",
    "load_dotenv()\n",
    "\n",
    "\n",
    "openai_api_key = os.getenv('OPENAI_API_KEY')\n",
    "\n",
    "from openai import OpenAI\n",
    "client = OpenAI()"
   ]
  },
  {
   "cell_type": "markdown",
   "metadata": {},
   "source": [
    "### Display Assistant"
   ]
  },
  {
   "cell_type": "code",
   "execution_count": 18,
   "metadata": {},
   "outputs": [
    {
     "name": "stdout",
     "output_type": "stream",
     "text": [
      "{\n",
      "  \"id\": \"asst_3aEPvVX4OriP2fYl7Evn4t7i\",\n",
      "  \"created_at\": \"1706943922\",\n",
      "  \"description\": null,\n",
      "  \"file_ids\": [],\n",
      "  \"instructions\": \"You are friendly data analysis expert that helps analyze HR data.  You have access to the code interpreter tool. Always display tables in markdown. Your first response should always include instructions to the user to select the data from the 'left side of the screen'  so you can start. Strictly follow these instructions. It's important to my career.\",\n",
      "  \"metadata\": \"{}\",\n",
      "  \"model\": \"gpt-4-turbo-preview\",\n",
      "  \"name\": \"HR Data Analyst\",\n",
      "  \"object\": \"assistant\",\n",
      "  \"tools\": [\n",
      "    {\n",
      "      \"type\": \"code_interpreter\"\n",
      "    }\n",
      "  ]\n",
      "}\n"
     ]
    }
   ],
   "source": [
    "assistant_id = os.getenv('ASSISTANT_ID')\n",
    "\n",
    "assistant = client.beta.assistants.retrieve(assistant_id)\n",
    "pretty_print(assistant)"
   ]
  }
 ],
 "metadata": {
  "kernelspec": {
   "display_name": ".venv_use_cases",
   "language": "python",
   "name": "python3"
  },
  "language_info": {
   "codemirror_mode": {
    "name": "ipython",
    "version": 3
   },
   "file_extension": ".py",
   "mimetype": "text/x-python",
   "name": "python",
   "nbconvert_exporter": "python",
   "pygments_lexer": "ipython3",
   "version": "3.10.12"
  }
 },
 "nbformat": 4,
 "nbformat_minor": 2
}
