{
 "cells": [
  {
   "cell_type": "code",
   "execution_count": 31,
   "metadata": {},
   "outputs": [],
   "source": [
    "import os\n",
    "import json\n",
    "from dotenv import load_dotenv\n",
    "load_dotenv()\n",
    "# from openai import OpenAI\n",
    "# client = OpenAI()\n",
    "\n",
    "from openai import AzureOpenAI\n",
    "\n",
    "client = AzureOpenAI(\n",
    "    api_key=os.getenv(\"AZURE_OPENAI_KEY\"),  \n",
    "    api_version=\"2024-02-15-preview\",\n",
    "    azure_endpoint = os.getenv(\"AZURE_OPENAI_ENDPOINT\")\n",
    "    )"
   ]
  },
  {
   "cell_type": "markdown",
   "metadata": {},
   "source": [
    "List Files"
   ]
  },
  {
   "cell_type": "code",
   "execution_count": 32,
   "metadata": {},
   "outputs": [
    {
     "data": {
      "text/plain": [
       "{'data': [{'id': 'assistant-TWVYfAfNgAm3wVbdLUHOeuaC',\n",
       "   'bytes': None,\n",
       "   'created_at': 1707926320,\n",
       "   'filename': '4b83584c-9edb-4850-b819-a9f5833d67c3',\n",
       "   'object': 'file',\n",
       "   'purpose': 'assistants_output',\n",
       "   'status': 'processed',\n",
       "   'status_details': None},\n",
       "  {'id': 'assistant-10ZE71JBq7CiExd3ftwwl2Zh',\n",
       "   'bytes': 44576,\n",
       "   'created_at': 1707926258,\n",
       "   'filename': 'data_for_analysis.csv',\n",
       "   'object': 'file',\n",
       "   'purpose': 'assistants',\n",
       "   'status': 'processed',\n",
       "   'status_details': None},\n",
       "  {'id': 'assistant-GVNeevpyNecKrFsLL0BxOHbw',\n",
       "   'bytes': None,\n",
       "   'created_at': 1707926091,\n",
       "   'filename': '6b705c24-25d2-4d7e-ac5a-538c653444a3',\n",
       "   'object': 'file',\n",
       "   'purpose': 'assistants_output',\n",
       "   'status': 'processed',\n",
       "   'status_details': None},\n",
       "  {'id': 'assistant-kNcerkmFtHKPGiVnT1iNJXY0',\n",
       "   'bytes': 44576,\n",
       "   'created_at': 1707926001,\n",
       "   'filename': 'data_for_analysis.csv',\n",
       "   'object': 'file',\n",
       "   'purpose': 'assistants',\n",
       "   'status': 'processed',\n",
       "   'status_details': None},\n",
       "  {'id': 'assistant-gP7E9QsvVjqQZIwBsFOIrzUw',\n",
       "   'bytes': None,\n",
       "   'created_at': 1707924790,\n",
       "   'filename': 'a8c120e1-984b-49b2-ba33-3b1c02bc0859',\n",
       "   'object': 'file',\n",
       "   'purpose': 'assistants_output',\n",
       "   'status': 'processed',\n",
       "   'status_details': None},\n",
       "  {'id': 'assistant-E66GU1Bs6O3e813Jjjmlfp64',\n",
       "   'bytes': 44576,\n",
       "   'created_at': 1707924723,\n",
       "   'filename': 'data_for_analysis.csv',\n",
       "   'object': 'file',\n",
       "   'purpose': 'assistants',\n",
       "   'status': 'processed',\n",
       "   'status_details': None}],\n",
       " 'object': 'list'}"
      ]
     },
     "metadata": {},
     "output_type": "display_data"
    }
   ],
   "source": [
    "files = client.files.list()\n",
    "\n",
    "def show_json(obj):\n",
    "    display(json.loads(obj.model_dump_json()))\n",
    "\n",
    "show_json(files)"
   ]
  },
  {
   "cell_type": "markdown",
   "metadata": {},
   "source": [
    "Delete"
   ]
  },
  {
   "cell_type": "code",
   "execution_count": 33,
   "metadata": {},
   "outputs": [],
   "source": [
    "# Delete the files\n",
    "for file in files.data:\n",
    "    client.files.delete(file.id)\n"
   ]
  },
  {
   "cell_type": "markdown",
   "metadata": {},
   "source": [
    "Check if empty"
   ]
  },
  {
   "cell_type": "code",
   "execution_count": 34,
   "metadata": {},
   "outputs": [
    {
     "data": {
      "text/plain": [
       "SyncPage[FileObject](data=[], object='list')"
      ]
     },
     "execution_count": 34,
     "metadata": {},
     "output_type": "execute_result"
    }
   ],
   "source": [
    "files = client.files.list()\n",
    "files"
   ]
  }
 ],
 "metadata": {
  "kernelspec": {
   "display_name": ".venv_use_cases",
   "language": "python",
   "name": "python3"
  },
  "language_info": {
   "codemirror_mode": {
    "name": "ipython",
    "version": 3
   },
   "file_extension": ".py",
   "mimetype": "text/x-python",
   "name": "python",
   "nbconvert_exporter": "python",
   "pygments_lexer": "ipython3",
   "version": "3.10.12"
  }
 },
 "nbformat": 4,
 "nbformat_minor": 2
}
